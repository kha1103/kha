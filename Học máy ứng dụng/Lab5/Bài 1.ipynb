{
  "nbformat": 4,
  "nbformat_minor": 0,
  "metadata": {
    "colab": {
      "provenance": []
    },
    "kernelspec": {
      "name": "python3",
      "display_name": "Python 3"
    },
    "language_info": {
      "name": "python"
    }
  },
  "cells": [
    {
      "cell_type": "code",
      "execution_count": 2,
      "metadata": {
        "colab": {
          "base_uri": "https://localhost:8080/",
          "height": 974
        },
        "id": "PZp_Jfn0TdKB",
        "outputId": "307daae6-831b-4559-e58a-b05b02ea43fb"
      },
      "outputs": [
        {
          "output_type": "stream",
          "name": "stdout",
          "text": [
            "     pcost       dcost       gap    pres   dres\n",
            " 0: -7.6444e-01 -1.9378e+00  1e+00  2e-16  2e+00\n",
            " 1: -9.1982e-01 -1.0024e+00  8e-02  4e-16  3e-01\n",
            " 2: -9.9717e-01 -1.0105e+00  1e-02  2e-16  2e-16\n",
            " 3: -9.9957e-01 -1.0005e+00  1e-03  2e-16  5e-16\n",
            " 4: -9.9994e-01 -1.0001e+00  1e-04  3e-18  7e-16\n",
            " 5: -9.9999e-01 -1.0000e+00  2e-05  3e-16  5e-16\n",
            " 6: -1.0000e+00 -1.0000e+00  3e-06  2e-16  7e-16\n",
            " 7: -1.0000e+00 -1.0000e+00  4e-07  2e-16  4e-16\n",
            " 8: -1.0000e+00 -1.0000e+00  5e-08  2e-16  4e-16\n",
            " 9: -1.0000e+00 -1.0000e+00  8e-09  2e-16  5e-16\n",
            "10: -1.0000e+00 -1.0000e+00  1e-09  2e-16  3e-16\n",
            "11: -1.0000e+00 -1.0000e+00  2e-10  0e+00  3e-16\n",
            "12: -1.0000e+00 -1.0000e+00  2e-11  2e-16  6e-16\n",
            "Optimal solution found.\n",
            "\n",
            "lambda = [0. 1. 1.]\n",
            "w = [1. 1.]\n",
            "b = -3.0\n"
          ]
        },
        {
          "output_type": "error",
          "ename": "ValueError",
          "evalue": "operands could not be broadcast together with shapes (2,100) (2,) ",
          "traceback": [
            "\u001b[0;31m---------------------------------------------------------------------------\u001b[0m",
            "\u001b[0;31mValueError\u001b[0m                                Traceback (most recent call last)",
            "\u001b[0;32m<ipython-input-2-e68792b9525c>\u001b[0m in \u001b[0;36m<cell line: 73>\u001b[0;34m()\u001b[0m\n\u001b[1;32m     71\u001b[0m \u001b[0mw_unit\u001b[0m \u001b[0;34m=\u001b[0m \u001b[0mw\u001b[0m \u001b[0;34m/\u001b[0m \u001b[0mw_norm\u001b[0m\u001b[0;34m\u001b[0m\u001b[0;34m\u001b[0m\u001b[0m\n\u001b[1;32m     72\u001b[0m \u001b[0mhalf_margin\u001b[0m \u001b[0;34m=\u001b[0m \u001b[0;36m1\u001b[0m \u001b[0;34m/\u001b[0m \u001b[0mw_norm\u001b[0m\u001b[0;34m\u001b[0m\u001b[0;34m\u001b[0m\u001b[0m\n\u001b[0;32m---> 73\u001b[0;31m \u001b[0mupper\u001b[0m \u001b[0;34m=\u001b[0m \u001b[0mnp\u001b[0m\u001b[0;34m.\u001b[0m\u001b[0marray\u001b[0m\u001b[0;34m(\u001b[0m\u001b[0;34m[\u001b[0m\u001b[0mx1_dec\u001b[0m\u001b[0;34m,\u001b[0m \u001b[0mx2_dec\u001b[0m\u001b[0;34m]\u001b[0m\u001b[0;34m)\u001b[0m \u001b[0;34m+\u001b[0m \u001b[0mhalf_margin\u001b[0m \u001b[0;34m*\u001b[0m \u001b[0mw_unit\u001b[0m\u001b[0;34m\u001b[0m\u001b[0;34m\u001b[0m\u001b[0m\n\u001b[0m\u001b[1;32m     74\u001b[0m \u001b[0mlower\u001b[0m \u001b[0;34m=\u001b[0m \u001b[0mnp\u001b[0m\u001b[0;34m.\u001b[0m\u001b[0marray\u001b[0m\u001b[0;34m(\u001b[0m\u001b[0;34m[\u001b[0m\u001b[0mx1_dec\u001b[0m\u001b[0;34m,\u001b[0m \u001b[0mx2_dec\u001b[0m\u001b[0;34m]\u001b[0m\u001b[0;34m)\u001b[0m \u001b[0;34m-\u001b[0m \u001b[0mhalf_margin\u001b[0m \u001b[0;34m*\u001b[0m \u001b[0mw_unit\u001b[0m\u001b[0;34m\u001b[0m\u001b[0;34m\u001b[0m\u001b[0m\n\u001b[1;32m     75\u001b[0m \u001b[0;34m\u001b[0m\u001b[0m\n",
            "\u001b[0;31mValueError\u001b[0m: operands could not be broadcast together with shapes (2,100) (2,) "
          ]
        },
        {
          "output_type": "display_data",
          "data": {
            "text/plain": [
              "<Figure size 500x500 with 1 Axes>"
            ],
            "image/png": "[encoded data removed]"
          },
          "metadata": {}
        }
      ],
      "source": [
        "from cvxopt import matrix as matrix\n",
        "from cvxopt import solvers as solvers\n",
        "import numpy as np\n",
        "import matplotlib.pyplot as plt\n",
        "\n",
        "# 3 data points\n",
        "x = np.array([[1., 3.], [2., 2.], [1., 1.]])\n",
        "y = np.array([[1.], [1.], [-1.]])\n",
        "\n",
        "# ---- Calculate lambda using cvxopt ----\n",
        "\n",
        "# Calculate H matrix (H = y_i y_j (x_i · x_j))\n",
        "H = np.dot(y, y.T) * np.dot(x, x.T)\n",
        "\n",
        "# Construct the matrices required for QP in standard form\n",
        "n = x.shape[0]\n",
        "P = matrix(H)\n",
        "q = matrix(-np.ones((n, 1)))\n",
        "G = matrix(-np.eye(n))\n",
        "h = matrix(np.zeros(n))\n",
        "A = matrix(y.reshape(1, -1))\n",
        "b = matrix(np.zeros(1))\n",
        "\n",
        "# Solver parameters\n",
        "solvers.options['abstol'] = 1e-10\n",
        "solvers.options['reltol'] = 1e-10\n",
        "solvers.options['feastol'] = 1e-10\n",
        "\n",
        "# Perform QP\n",
        "sol = solvers.qp(P, q, G, h, A, b)\n",
        "\n",
        "# The solution of the QP, λ\n",
        "lamb = np.array(sol['x'])\n",
        "\n",
        "# ---------------------------------------------------------------\n",
        "\n",
        "# Calculate w using the lambda, which is the solution to QP\n",
        "w = np.sum(lamb * y * x, axis=0)\n",
        "\n",
        "# Find support vectors\n",
        "sv_idx = np.where(lamb > 1e-5)[0]\n",
        "sv_lamb = lamb[sv_idx]\n",
        "sv_x = x[sv_idx]\n",
        "sv_y = y[sv_idx]\n",
        "\n",
        "# Calculate b using the support vectors\n",
        "b = sv_y[0] - np.dot(w, sv_x[0])\n",
        "# Alternatively, you can average b from all support vectors\n",
        "b = np.mean(sv_y - np.dot(sv_x, w))\n",
        "\n",
        "# With w and b, we can determine the Separating Hyperplane\n",
        "\n",
        "print('\\nlambda =', np.round(lamb.flatten(), 3))\n",
        "print('w =', np.round(w, 3))\n",
        "print('b =', np.round(b, 3))\n",
        "\n",
        "# Visualize the data points\n",
        "plt.figure(figsize=(5, 5))\n",
        "color = ['red' if a == 1 else 'blue' for a in y]\n",
        "plt.scatter(x[:, 0], x[:, 1], s=200, c=color, alpha=0.7)\n",
        "plt.xlim(0, 4)\n",
        "plt.ylim(0, 4)\n",
        "\n",
        "# Visualize the decision boundary\n",
        "x1_dec = np.linspace(0, 4, 100)\n",
        "x2_dec = -(w[0] * x1_dec + b) / w[1]\n",
        "plt.plot(x1_dec, x2_dec, c='black', lw=1.0, label='decision boundary')\n",
        "\n",
        "# Visualize the positive & negative boundary\n",
        "w_norm = np.sqrt(np.sum(w ** 2))\n",
        "w_unit = w / w_norm\n",
        "half_margin = 1 / w_norm\n",
        "upper = np.array([x1_dec, x2_dec]) + half_margin * w_unit\n",
        "lower = np.array([x1_dec, x2_dec]) - half_margin * w_unit\n",
        "\n",
        "plt.plot(upper[0], upper[1], '--', lw=1.0, label='positive boundary')\n",
        "plt.plot(lower[0], lower[1], '--', lw=1.0, label='negative boundary')\n",
        "\n",
        "# Highlight the support vectors\n",
        "plt.scatter(sv_x[:, 0], sv_x[:, 1], s=50, marker='o', c='white')\n",
        "\n",
        "for s, (x1, x2) in zip(lamb, x):\n",
        "    plt.annotate('λ=' + str(s[0].round(2)), (x1 - 0.05, x2 + 0.2))\n",
        "\n",
        "plt.legend()\n",
        "plt.show()\n",
        "\n",
        "print(\"\\nMargin = {:.4f}\".format(half_margin * 2))\n"
      ]
    }
  ]
}